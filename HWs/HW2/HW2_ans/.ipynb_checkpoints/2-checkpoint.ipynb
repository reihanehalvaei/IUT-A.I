{
 "cells": [
  {
   "cell_type": "markdown",
   "metadata": {},
   "source": [
    "## <div style=\"direction:rtl\"> اضافه کردن کتابخانه های مورد نیاز </div>"
   ]
  },
  {
   "cell_type": "code",
   "execution_count": null,
   "metadata": {},
   "outputs": [],
   "source": [
    "import numpy as np\n",
    "from random import seed\n",
    "from random import randrange\n",
    "from random import random, shuffle, sample\n",
    "from csv import reader\n",
    "from math import exp\n",
    "import matplotlib.pyplot as plt"
   ]
  },
  {
   "cell_type": "markdown",
   "metadata": {},
   "source": [
    "## <div style=\"direction:rtl\"> تابعی برای خواندن داده ها </div>"
   ]
  },
  {
   "cell_type": "code",
   "execution_count": null,
   "metadata": {},
   "outputs": [],
   "source": [
    "# Load a CSV file\n",
    "def load_data(filename):\n",
    "    dataset = list()\n",
    "    with open(filename, 'r') as file:\n",
    "        csv_reader = reader(file)\n",
    "        for row in csv_reader:\n",
    "            if not row:\n",
    "                continue\n",
    "            for col in range(len(row)):\n",
    "                row[col] = float(row[col].strip())\n",
    "            dataset.append(row)\n",
    "    return dataset"
   ]
  },
  {
   "cell_type": "markdown",
   "metadata": {},
   "source": [
    "## <div style=\"direction:rtl\"> تعریف اکتیویت فانکشن ها </div>"
   ]
  },
  {
   "cell_type": "code",
   "execution_count": null,
   "metadata": {},
   "outputs": [],
   "source": [
    "def relu(x,a=1e-3):\n",
    "    x = np.array(x)\n",
    "    s1 = x > 0\n",
    "    s2 = x < 0\n",
    "    return (1)*np.multiply(x,s1)+(a)*np.multiply(x,s2)\n",
    "\n",
    "def d_relu(x,a=1e-3):\n",
    "    x = np.array(x)\n",
    "    s1 = x > 0\n",
    "    s2 = x < 0\n",
    "    return (1)*s1 + s2*(a)\n",
    "\n",
    "def tanh(x):\n",
    "    x = np.array(x)\n",
    "    return np.tanh(x)\n",
    "\n",
    "def d_tanh(x):\n",
    "    x = np.array(x)\n",
    "    return 1 - np.tanh(x)**2\n",
    "\n",
    "def sigm(x):\n",
    "    x = np.array(x)\n",
    "    return 1 / (1 + np.exp(-x))\n",
    "\n",
    "def d_sigm(x):\n",
    "    return 1 - sigm(x)\n",
    "\n",
    "def linear(x):\n",
    "    return x\n",
    "\n",
    "def d_linear(x):\n",
    "    return 1"
   ]
  },
  {
   "cell_type": "markdown",
   "metadata": {},
   "source": [
    "## <div style=\"direction:rtl\"> تابع forward propagation </div>\n",
    "### <div style=\"direction:rtl\"> ورودی های این تابع  </div>\n",
    "<div style=\"direction:rtl\">  <b> X: </b> داده ها به صورت یک ماتریس n*m می‌باشد (n ابعاد داده های ورودی و m تعداد آن می‌باشد) </div>\n",
    "<div style=\"direction:rtl\">  <b> Wi: </b> وزن لایه i ام </div>\n",
    "<div style=\"direction:rtl\">  <b> bi: </b> بایاس لایه ی i ام </div>\n",
    "\n",
    "### <div style=\"direction:rtl\"> خروجی های این تابع  </div>\n",
    "<div style=\"direction:rtl\">  <b> A4: </b> خروجی لایه آخر شبکه </div>\n",
    "<div style=\"direction:rtl\">  <b> DATA: </b> داده های خروجی هر لایه (قبل و بعد از اعمال activate function) </div>"
   ]
  },
  {
   "cell_type": "code",
   "execution_count": null,
   "metadata": {},
   "outputs": [],
   "source": [
    "def forward_propagation(X, W1, W2, W3, W4, b1, b2, b3, b4):\n",
    "  \n",
    "    Z1 = np.dot(W1, X) + b1\n",
    "    A1 = linear(Z1)\n",
    "    Z2 = np.dot(W2, A1) + b2\n",
    "    A2 = relu(Z2)\n",
    "    Z3 = np.dot(W3, A2) + b3\n",
    "    A3 = relu(Z3)\n",
    "    Z4 = np.dot(W4, A3) + b4\n",
    "    A4 = linear(Z4)\n",
    "      \n",
    "    # the DATA is the data of previous iteration\n",
    "    # This will be used for backpropagation\n",
    "    DATA = {\"Z1\": Z1,\n",
    "             \"A1\": A1,\n",
    "             \"Z2\": Z2,\n",
    "             \"A2\": A2,\n",
    "             \"Z3\": Z3,\n",
    "             \"A3\": A3,\n",
    "             \"Z4\": Z4,\n",
    "             \"A4\": A4\n",
    "            }\n",
    "      \n",
    "    return A4, DATA\n"
   ]
  },
  {
   "cell_type": "markdown",
   "metadata": {},
   "source": [
    "## <div style=\"direction:rtl\"> تابع محاسبه ی هزینه </div>\n",
    "### <div style=\"direction:rtl\"> ورودی های این تابع  </div>\n",
    "<div style=\"direction:rtl\">  <b> A4: </b> خروجی لایه ی آخر شبکه  </div>\n",
    "<div style=\"direction:rtl\">  <b> Y: </b> خروجی های اصلی </div>\n",
    "\n",
    "### <div style=\"direction:rtl\"> خروجی های این تابع  </div>\n",
    "<div style=\"direction:rtl\">  <b> cost: </b> هزینه ی شبکه که با استفاده از MSE بدست آمده است </div>"
   ]
  },
  {
   "cell_type": "code",
   "execution_count": 5,
   "metadata": {},
   "outputs": [],
   "source": [
    "def compute_cost(A4, Y):\n",
    "  \n",
    "    m = Y.shape[1]\n",
    "    \n",
    "    cost = 1/m*np.sum(np.multiply(Y-A4,Y-A4))\n",
    "\n",
    "    return cost\n",
    "    "
   ]
  },
  {
   "cell_type": "markdown",
   "metadata": {},
   "source": [
    "## <div style=\"direction:rtl\"> تابع backward propagation </div>\n",
    "### <div style=\"direction:rtl\"> ورودی های این تابع  </div>\n",
    "<div style=\"direction:rtl\">  <b> X,Y: </b> داده های آموزش و خروجی آنها </div>\n",
    "<div style=\"direction:rtl\">  <b> Wi: </b> وزن لایه i ام </div>\n",
    "<div style=\"direction:rtl\">  <b> bi: </b> بایاس لایه ی i ام </div>\n",
    "<div style=\"direction:rtl\">  <b> DATA: </b> داده های خروجی هر لایه (قبل و بعد از اعمال activate function در تابع فوروارد پروپگیشن) </div>\n",
    "<div style=\"direction:rtl\">  <b> lr: </b> مقدار learning rate </div>\n",
    "\n",
    "### <div style=\"direction:rtl\"> خروجی های این تابع  </div>\n",
    "<div style=\"direction:rtl\">  <b> Wi: </b> وزن آپدیت شده ی لایه i ام </div>\n",
    "<div style=\"direction:rtl\">  <b> bi: </b> بایاس آپدیت شده ی لایه ی i ام </div>\n"
   ]
  },
  {
   "cell_type": "code",
   "execution_count": 69,
   "metadata": {},
   "outputs": [],
   "source": [
    "def backward_propagation(W1, b1, W2, b2, W3, b3, W4, b4, DATA, X, Y, lr=0.05):\n",
    "\n",
    "    m = X.shape[1]\n",
    "    learning_rate = lr\n",
    "\n",
    "    # Retrieve from dictionary \"DATA\"\n",
    "    A1 = DATA['A1']\n",
    "    A2 = DATA['A2']\n",
    "    A3 = DATA['A3']\n",
    "    A4 = DATA['A4']\n",
    "    \n",
    "    Z1 = DATA['Z1']\n",
    "    Z2 = DATA['Z2']\n",
    "    Z3 = DATA['Z3']\n",
    "    Z4 = DATA['Z4']\n",
    "  \n",
    "    # Backward propagation: calculate dW1, db1, dW2, db2, dW3, db3, dW4, db4. \n",
    "    dZ4 = -2*(Y-A4)\n",
    "    dW4 = (1 / m) * np.dot(dZ4, A3.T)  # 1*2\n",
    "    db4 = (1 / m) * np.sum(dZ4, axis = 1, keepdims = True)\n",
    "  \n",
    "    dZ3 = np.multiply(np.dot(W4.T, dZ4), d_relu(Z3))\n",
    "    dW3 = (1 / m) * np.dot(dZ3, A2.T)\n",
    "    db3 = (1 / m) * np.sum(dZ3, axis = 1, keepdims = True)\n",
    "    \n",
    "    dZ2 = np.multiply(np.dot(W3.T, dZ3), d_relu(Z2))\n",
    "    dW2 = (1 / m) * np.dot(dZ2, A1.T)\n",
    "    db2 = (1 / m) * np.sum(dZ2, axis = 1, keepdims = True)\n",
    "    \n",
    "    dZ1 = np.multiply(np.dot(W2.T, dZ2), d_linear(Z1))\n",
    "    dW1 = (1 / m) * np.dot(dZ1, X.T)\n",
    "    db1 = (1 / m) * np.sum(dZ1, axis = 1, keepdims = True)\n",
    "      \n",
    "    # Updating the parameters according to algorithm\n",
    "    W1 = W1 - learning_rate * dW1\n",
    "    b1 = b1 - learning_rate * db1\n",
    "    W2 = W2 - learning_rate * dW2\n",
    "    b2 = b2 - learning_rate * db2\n",
    "    W3 = W3 - learning_rate * dW3\n",
    "    b3 = b3 - learning_rate * db3\n",
    "    W4 = W4 - learning_rate * dW4\n",
    "    b4 = b4 - learning_rate * db4\n",
    "    # print(\"dw1 \" , dW1,\" w1 \",W1)\n",
    "  \n",
    "    return W1, W2, W3, W4, b1, b2, b3, b4"
   ]
  },
  {
   "cell_type": "markdown",
   "metadata": {},
   "source": [
    "## <div style=\"direction:rtl\"> خواندن داده های train از ورودی </div>"
   ]
  },
  {
   "cell_type": "code",
   "execution_count": 129,
   "metadata": {},
   "outputs": [],
   "source": [
    "# load and prepare data\n",
    "\n",
    "#filename = '(2x1)-(x2+x3).txt'\n",
    "#filename = '(2x1)+(x2-x3-x4).txt'\n",
    "filename = '(4x1)-(-1x2-x3-x4).txt'\n",
    "#filename = '(4x1)+(6x2-x3-x4+2x5).txt'\n",
    "\n",
    "dataset = np.array(load_data(filename))\n",
    "\n",
    "X = np.array(dataset[:,0:-1]).T\n",
    "Y = np.reshape(np.array(dataset[:,-1]),(1,X.shape[1]))\n",
    "\n",
    "#np.savetxt(filename, dataset, delimiter=\",\")"
   ]
  },
  {
   "cell_type": "markdown",
   "metadata": {},
   "source": [
    "## <div style=\"direction:rtl\"> دادن مقدار اولیه به پارامتر ها </div>"
   ]
  },
  {
   "cell_type": "code",
   "execution_count": 130,
   "metadata": {},
   "outputs": [],
   "source": [
    "n_no = [X.shape[0], 10, 20, 5, Y.shape[0]]\n",
    "\n",
    "W1 = np.random.randn(n_no[1], n_no[0]) / np.sqrt(n_no[0])\n",
    "b1 = np.zeros(shape =(n_no[1], 1))\n",
    "\n",
    "W2 = np.random.randn(n_no[2], n_no[1]) / np.sqrt(n_no[1])\n",
    "b2 = np.zeros(shape =(n_no[2], 1))\n",
    "\n",
    "W3 = np.random.randn(n_no[3], n_no[2]) / np.sqrt(n_no[2])\n",
    "b3 = np.zeros(shape =(n_no[3], 1))\n",
    "\n",
    "W4 = np.random.randn(n_no[4], n_no[3]) / np.sqrt(n_no[3])\n",
    "b4 = np.zeros(shape =(n_no[4], 1))\n",
    "\n",
    "\n",
    "#print(W1,W2,W3,W4)"
   ]
  },
  {
   "cell_type": "markdown",
   "metadata": {},
   "source": [
    "## <div style=\"direction:rtl\"> آموزش شبکه </div>\n",
    "<div style=\"direction:rtl\"> آموزش شبکه </div>"
   ]
  },
  {
   "cell_type": "code",
   "execution_count": 131,
   "metadata": {},
   "outputs": [
    {
     "name": "stdout",
     "output_type": "stream",
     "text": [
      "Cost after iteration  0:  23.656864\n",
      "Cost after iteration  100:  0.066593\n",
      "Cost after iteration  200:  0.031315\n",
      "Cost after iteration  300:  0.021729\n",
      "Cost after iteration  400:  0.017325\n",
      "Cost after iteration  500:  0.014648\n",
      "Cost after iteration  600:  0.012738\n",
      "Cost after iteration  700:  0.011244\n",
      "Cost after iteration  800:  0.010008\n",
      "Cost after iteration  900:  0.008967\n"
     ]
    }
   ],
   "source": [
    "num_iterations = 1000\n",
    "print_cost = True\n",
    "all_costs = np.zeros(num_iterations)\n",
    "\n",
    "m = X.shape[1]\n",
    "\n",
    "for i in range(0 , num_iterations):\n",
    "    \n",
    "    # Forward propagation. Inputs: \"X, parameters\". return: \"A4, DATA\".\n",
    "    A4, DATA = forward_propagation(X, W1, W2, W3, W4, b1, b2, b3, b4)\n",
    "\n",
    "    # Cost function. Inputs: \"A4, Y\". Outputs: \"cost\".\n",
    "    cost = compute_cost(A4, Y)\n",
    "    all_costs[i] = cost\n",
    "\n",
    "    # Backpropagation. Inputs: \"parameters, DATA, X, Y\". Outputs: \"grads\".\n",
    "    W1, W2, W3, W4, b1, b2, b3, b4 = backward_propagation(W1, b1, W2, b2, W3, b3, W4, b4, DATA, X, Y,0.01)\n",
    "\n",
    "    # Print the cost every 1000 iterations\n",
    "    if print_cost and i % 100 == 0:\n",
    "        print (\"Cost after iteration % i: % f\" % (i, cost))\n",
    "        \n",
    "    "
   ]
  },
  {
   "cell_type": "code",
   "execution_count": 132,
   "metadata": {},
   "outputs": [
    {
     "data": {
      "image/png": "[encoded data removed]",
      "text/plain": [
       "<Figure size 432x288 with 1 Axes>"
      ]
     },
     "metadata": {
      "needs_background": "light"
     },
     "output_type": "display_data"
    }
   ],
   "source": [
    "# x axis values\n",
    "itr = np.array([i  for i in range(num_iterations)])\n",
    "\n",
    "x = [itr[i] for i in range(0, len(itr), 100)]\n",
    "y = [all_costs[i] for i in range(0, len(all_costs), 100)]    \n",
    "    \n",
    "# plotting the points \n",
    "plt.plot(x, y)\n",
    "  \n",
    "# naming the x axis\n",
    "plt.xlabel('iteration number')\n",
    "# naming the y axis\n",
    "plt.ylabel('cost')\n",
    "\n",
    "# function to show the plot\n",
    "plt.show()"
   ]
  },
  {
   "cell_type": "code",
   "execution_count": 121,
   "metadata": {},
   "outputs": [],
   "source": [
    "# load data test dataset\n",
    "\n",
    "test_filename = 'test_(4x1)-(-1x2-x3-x4).txt'\n",
    "\n",
    "\n",
    "test_dataset = np.array(load_data(filename))\n",
    "\n",
    "tX = np.array(dataset[:,0:-1]).T\n",
    "tY = np.reshape(np.array(dataset[:,-1]),(1,X.shape[1]))\n",
    "\n",
    "#np.savetxt(filename, dataset, delimiter=\",\")"
   ]
  },
  {
   "cell_type": "code",
   "execution_count": 122,
   "metadata": {},
   "outputs": [],
   "source": [
    "test_A4, DATA = forward_propagation(tX, W1, W2, W3, W4, b1, b2, b3, b4)"
   ]
  },
  {
   "cell_type": "code",
   "execution_count": 124,
   "metadata": {},
   "outputs": [
    {
     "data": {
      "text/plain": [
       "0.003095032133389002"
      ]
     },
     "execution_count": 124,
     "metadata": {},
     "output_type": "execute_result"
    }
   ],
   "source": [
    "np.mean(compute_cost(test_A4,tY))"
   ]
  },
  {
   "cell_type": "code",
   "execution_count": 114,
   "metadata": {},
   "outputs": [],
   "source": [
    "def compute_in(X):\n",
    "    Y = np.zeros((1,X.shape[1]))\n",
    "    for i in range(X.shape[1]):\n",
    "        Y[0,i] = 2*X[0,i]-(X[1,i]+X[2,i])\n",
    "        #Y[0,i] = (2*X[0,i])+(X[1,i]-X[2,i]-X[3,i])\n",
    "        #Y[0,i] = (4*X[0,i])-(-1*X[1,i]-X[2,i]-X[3,i])\n",
    "    return Y\n",
    "\n",
    "dataset = np.array(np.zeros(shape = (10000,5)))\n",
    "filename = 'test_(4x1)-(-1x2-x3-x4).txt'\n",
    "\n",
    "\n",
    "\n",
    "for i in range(10000):\n",
    "    X = np.random.randn(4,1)\n",
    "    Y = compute_in(X).T\n",
    "    dataset[i,0:-1] = X.T\n",
    "    dataset[i,-1] = Y[0,0]\n",
    "    \n",
    "np.savetxt(filename, dataset, delimiter=\",\")\n",
    "    "
   ]
  },
  {
   "cell_type": "code",
   "execution_count": null,
   "metadata": {},
   "outputs": [],
   "source": []
  }
 ],
 "metadata": {
  "kernelspec": {
   "display_name": "Python 3",
   "language": "python",
   "name": "python3"
  },
  "language_info": {
   "codemirror_mode": {
    "name": "ipython",
    "version": 3
   },
   "file_extension": ".py",
   "mimetype": "text/x-python",
   "name": "python",
   "nbconvert_exporter": "python",
   "pygments_lexer": "ipython3",
   "version": "3.8.3"
  }
 },
 "nbformat": 4,
 "nbformat_minor": 4
}
