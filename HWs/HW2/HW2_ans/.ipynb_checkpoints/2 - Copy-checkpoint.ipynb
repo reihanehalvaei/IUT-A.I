{
 "cells": [
  {
   "cell_type": "markdown",
   "metadata": {},
   "source": [
    "## <div style=\"direction:rtl\"> اضافه کردن کتابخانه های مورد نیاز </div>"
   ]
  },
  {
   "cell_type": "code",
   "execution_count": null,
   "metadata": {},
   "outputs": [],
   "source": [
    "import numpy as np\n",
    "from random import seed\n",
    "from random import randrange\n",
    "from random import random, shuffle, sample\n",
    "from csv import reader\n",
    "from math import exp\n",
    "import matplotlib.pyplot as plt"
   ]
  },
  {
   "cell_type": "markdown",
   "metadata": {},
   "source": [
    "## <div style=\"direction:rtl\"> تابعی برای خواندن داده ها </div>"
   ]
  },
  {
   "cell_type": "code",
   "execution_count": 2,
   "metadata": {},
   "outputs": [],
   "source": [
    "# Load a CSV file\n",
    "def load_data(filename):\n",
    "    dataset = list()\n",
    "    with open(filename, 'r') as file:\n",
    "        csv_reader = reader(file)\n",
    "        for row in csv_reader:\n",
    "            if not row:\n",
    "                continue\n",
    "            for col in range(len(row)):\n",
    "                row[col] = float(row[col].strip())\n",
    "            dataset.append(row)\n",
    "    return dataset"
   ]
  },
  {
   "cell_type": "markdown",
   "metadata": {},
   "source": [
    "## <div style=\"direction:rtl\"> تعریف اکتیویت فانکشن ها </div>"
   ]
  },
  {
   "cell_type": "code",
   "execution_count": 3,
   "metadata": {},
   "outputs": [],
   "source": [
    "def relu(x,a=1e-3):\n",
    "    x = np.array(x)\n",
    "    s1 = x > 0\n",
    "    s2 = x < 0\n",
    "    return (1)*np.multiply(x,s1)+(a)*np.multiply(x,s2)\n",
    "\n",
    "def d_relu(x,a=1e-3):\n",
    "    x = np.array(x)\n",
    "    s1 = x > 0\n",
    "    s2 = x < 0\n",
    "    return (1)*s1 + s2*(a)\n",
    "\n",
    "def tanh(x):\n",
    "    x = np.array(x)\n",
    "    return np.tanh(x)\n",
    "\n",
    "def d_tanh(x):\n",
    "    x = np.array(x)\n",
    "    return 1 - np.tanh(x)**2\n",
    "\n",
    "def sigm(x):\n",
    "    x = np.array(x)\n",
    "    return 1 / (1 + np.exp(-x))\n",
    "\n",
    "def d_sigm(x):\n",
    "    return 1 - sigm(x)\n",
    "\n",
    "def linear(x):\n",
    "    return x\n",
    "\n",
    "def d_linear(x):\n",
    "    return 1"
   ]
  },
  {
   "cell_type": "markdown",
   "metadata": {},
   "source": [
    "## <div style=\"direction:rtl\"> تابع forward propagation </div>\n",
    "### <div style=\"direction:rtl\"> ورودی های این تابع  </div>\n",
    "<div style=\"direction:rtl\">  <b> X: </b> داده ها به صورت یک ماتریس n*m می‌باشد (n ابعاد داده های ورودی و m تعداد آن می‌باشد) </div>\n",
    "<div style=\"direction:rtl\">  <b> Wi: </b> وزن لایه i ام </div>\n",
    "<div style=\"direction:rtl\">  <b> bi: </b> بایاس لایه ی i ام </div>\n",
    "\n",
    "### <div style=\"direction:rtl\"> خروجی های این تابع  </div>\n",
    "<div style=\"direction:rtl\">  <b> A4: </b> خروجی لایه آخر شبکه </div>\n",
    "<div style=\"direction:rtl\">  <b> DATA: </b> داده های خروجی هر لایه (قبل و بعد از اعمال activate function) </div>"
   ]
  },
  {
   "cell_type": "code",
   "execution_count": 4,
   "metadata": {},
   "outputs": [],
   "source": [
    "def forward_propagation(X, W1, b1):\n",
    "  \n",
    "    Z1 = np.dot(W1, X) +  b1\n",
    "    A1 = linear(Z1)\n",
    "\n",
    "    # the DATA is the data of previous iteration\n",
    "    # This will be used for backpropagation\n",
    "    DATA = {\"Z1\": Z1,\n",
    "             \"A1\": A1\n",
    "            }\n",
    "      \n",
    "    return A1, DATA\n"
   ]
  },
  {
   "cell_type": "markdown",
   "metadata": {},
   "source": [
    "## <div style=\"direction:rtl\"> تابع محاسبه ی هزینه </div>\n",
    "### <div style=\"direction:rtl\"> ورودی های این تابع  </div>\n",
    "<div style=\"direction:rtl\">  <b> A4: </b> خروجی لایه ی آخر شبکه  </div>\n",
    "<div style=\"direction:rtl\">  <b> Y: </b> خروجی های اصلی </div>\n",
    "\n",
    "### <div style=\"direction:rtl\"> خروجی های این تابع  </div>\n",
    "<div style=\"direction:rtl\">  <b> cost: </b> هزینه ی شبکه که با استفاده از MSE بدست آمده است </div>"
   ]
  },
  {
   "cell_type": "code",
   "execution_count": 5,
   "metadata": {},
   "outputs": [],
   "source": [
    "def compute_cost(A1, Y):\n",
    "  \n",
    "    m = Y.shape[1]\n",
    "    \n",
    "    cost = (1/m)*np.sum(np.multiply(Y-A1,Y-A1))\n",
    "\n",
    "    return cost\n",
    "    "
   ]
  },
  {
   "cell_type": "markdown",
   "metadata": {},
   "source": [
    "## <div style=\"direction:rtl\"> تابع backward propagation </div>\n",
    "### <div style=\"direction:rtl\"> ورودی های این تابع  </div>\n",
    "<div style=\"direction:rtl\">  <b> X,Y: </b> داده های آموزش و خروجی آنها </div>\n",
    "<div style=\"direction:rtl\">  <b> Wi: </b> وزن لایه i ام </div>\n",
    "<div style=\"direction:rtl\">  <b> bi: </b> بایاس لایه ی i ام </div>\n",
    "<div style=\"direction:rtl\">  <b> DATA: </b> داده های خروجی هر لایه (قبل و بعد از اعمال activate function در تابع فوروارد پروپگیشن) </div>\n",
    "<div style=\"direction:rtl\">  <b> lr: </b> مقدار learning rate </div>\n",
    "\n",
    "### <div style=\"direction:rtl\"> خروجی های این تابع  </div>\n",
    "<div style=\"direction:rtl\">  <b> Wi: </b> وزن آپدیت شده ی لایه i ام </div>\n",
    "<div style=\"direction:rtl\">  <b> bi: </b> بایاس آپدیت شده ی لایه ی i ام </div>\n"
   ]
  },
  {
   "cell_type": "code",
   "execution_count": 6,
   "metadata": {},
   "outputs": [],
   "source": [
    "def backward_propagation(W1, b1, DATA, X, Y, lr=0.05):\n",
    "\n",
    "    m = X.shape[1]\n",
    "    learning_rate = lr\n",
    "\n",
    "    # Retrieve from dictionary \"DATA\"\n",
    "    A1 = DATA['A1']\n",
    "    Z1 = DATA['Z1']\n",
    "\n",
    "  \n",
    "    # Backward propagation: calculate dW1, db1, dW2, db2, dW3, db3, dW4, db4. \n",
    "    dZ1 = -2*(Y-A1)\n",
    "    dW1 = (1 / m) * np.dot(dZ1, X.T)  \n",
    "    db1 = (1 / m) * np.sum(dZ1, axis = 1, keepdims = True)\n",
    "    \n",
    "      \n",
    "    # Updating the parameters according to algorithm\n",
    "    W1 = W1 - learning_rate * dW1\n",
    "    b1 = b1 - learning_rate * db1\n",
    "    tmp =learning_rate * db1\n",
    "    \n",
    "  \n",
    "    return W1, b1"
   ]
  },
  {
   "cell_type": "markdown",
   "metadata": {},
   "source": [
    "## <div style=\"direction:rtl\"> خواندن داده های train از ورودی </div>"
   ]
  },
  {
   "cell_type": "code",
   "execution_count": 19,
   "metadata": {},
   "outputs": [],
   "source": [
    "# load and prepare data\n",
    "\n",
    "#filename = '(2x1)-(x2+x3).txt'\n",
    "#filename = '(2x1)+(x2-x3-x4).txt'\n",
    "filename = '(4x1)-(-1x2-x3-x4).txt'\n",
    "#filename = '(4x1)+(6x2-x3-x4+2x5).txt'\n",
    "dataset = np.array(load_data(filename))\n",
    "\n",
    "X = np.array(dataset[:,0:-1]).T\n",
    "Y = np.reshape(np.array(dataset[:,-1]),(1,X.shape[1]))\n",
    "\n",
    "#np.savetxt(filename, dataset, delimiter=\",\")"
   ]
  },
  {
   "cell_type": "markdown",
   "metadata": {},
   "source": [
    "## <div style=\"direction:rtl\"> دادن مقدار اولیه به پارامتر ها </div>"
   ]
  },
  {
   "cell_type": "code",
   "execution_count": 20,
   "metadata": {},
   "outputs": [],
   "source": [
    "# alpha = 0.01\n",
    "\n",
    "# W1 = np.ones(shape=(1, X.shape[0])) * alpha\n",
    "# b1 = np.zeros(shape =(1, 1))\n",
    "\n",
    "n_no = [X.shape[0], Y.shape[0]]\n",
    "\n",
    "W1 = np.random.randn(n_no[1], n_no[0]) / np.sqrt(n_no[0])\n",
    "b1 = np.zeros(shape =(n_no[1], 1))\n"
   ]
  },
  {
   "cell_type": "markdown",
   "metadata": {},
   "source": [
    "## <div style=\"direction:rtl\"> آموزش شبکه </div>"
   ]
  },
  {
   "cell_type": "code",
   "execution_count": 21,
   "metadata": {},
   "outputs": [
    {
     "name": "stdout",
     "output_type": "stream",
     "text": [
      "Cost after iteration  0:  22.671180\n",
      "Cost after iteration  100:  0.387084\n",
      "Cost after iteration  200:  0.006664\n",
      "Cost after iteration  300:  0.000116\n",
      "Cost after iteration  400:  0.000002\n",
      "Cost after iteration  500:  0.000000\n",
      "Cost after iteration  600:  0.000000\n",
      "Cost after iteration  700:  0.000000\n",
      "Cost after iteration  800:  0.000000\n",
      "Cost after iteration  900:  0.000000\n"
     ]
    }
   ],
   "source": [
    "num_iterations = 1000\n",
    "print_cost = True\n",
    "all_costs = np.zeros(num_iterations)\n",
    "\n",
    "m = X.shape[1]\n",
    "\n",
    "for i in range(0 , num_iterations):\n",
    "    \n",
    "    # Forward propagation. Inputs: \"X, parameters\". return: \"A4, DATA\".\n",
    "    A1, DATA = forward_propagation(X, W1, b1)\n",
    "\n",
    "    # Cost function. Inputs: \"A4, Y\". Outputs: \"cost\".\n",
    "    cost = compute_cost(A1, Y)\n",
    "    all_costs[i] = cost\n",
    "\n",
    "    # Backpropagation. Inputs: \"parameters, DATA, X, Y\". Outputs: \"grads\".\n",
    "    W1, b1 = backward_propagation(W1, b1, DATA, X, Y,0.01)\n",
    "\n",
    "\n",
    "    # Print the cost every 1000 iterations\n",
    "    if print_cost and i % 100 == 0:\n",
    "        print (\"Cost after iteration % i: % f\" % (i, cost))\n",
    "\n",
    "    "
   ]
  },
  {
   "cell_type": "code",
   "execution_count": 22,
   "metadata": {},
   "outputs": [
    {
     "data": {
      "image/png": "[encoded data removed]",
      "text/plain": [
       "<Figure size 432x288 with 1 Axes>"
      ]
     },
     "metadata": {
      "needs_background": "light"
     },
     "output_type": "display_data"
    }
   ],
   "source": [
    "# x axis values\n",
    "itr = np.array([i  for i in range(num_iterations)])\n",
    "\n",
    "x = [itr[i] for i in range(0, len(itr), 100)]\n",
    "y = [all_costs[i] for i in range(0, len(all_costs), 100)]    \n",
    "    \n",
    "# plotting the points \n",
    "plt.plot(x, y)\n",
    "  \n",
    "# naming the x axis\n",
    "plt.xlabel('iteration number')\n",
    "# naming the y axis\n",
    "plt.ylabel('cost')\n",
    "\n",
    "# function to show the plot\n",
    "plt.show()"
   ]
  },
  {
   "cell_type": "markdown",
   "metadata": {},
   "source": [
    "## <div style=\"direction:rtl\"> آماده کردن داده های تست و حساب کردن میانگین خطا </div>"
   ]
  },
  {
   "cell_type": "code",
   "execution_count": null,
   "metadata": {},
   "outputs": [],
   "source": [
    "# load data test dataset\n",
    "\n",
    "test_filename = 'test_(4x1)-(-1x2-x3-x4).txt'\n",
    "\n",
    "\n",
    "test_dataset = np.array(load_data(filename))\n",
    "\n",
    "tX = np.array(dataset[:,0:-1]).T\n",
    "tY = np.reshape(np.array(dataset[:,-1]),(1,X.shape[1]))\n"
   ]
  },
  {
   "cell_type": "code",
   "execution_count": 24,
   "metadata": {},
   "outputs": [],
   "source": [
    "test_A4, DATA = forward_propagation(tX, W1, b1)"
   ]
  },
  {
   "cell_type": "code",
   "execution_count": 25,
   "metadata": {},
   "outputs": [
    {
     "data": {
      "text/plain": [
       "6.740432972256099e-17"
      ]
     },
     "execution_count": 25,
     "metadata": {},
     "output_type": "execute_result"
    }
   ],
   "source": [
    "np.mean(compute_cost(test_A4,tY))"
   ]
  },
  {
   "cell_type": "markdown",
   "metadata": {},
   "source": [
    "## <div style=\"direction:rtl\"> ساخت داده های تست و آموزش جدید </div>"
   ]
  },
  {
   "cell_type": "code",
   "execution_count": null,
   "metadata": {},
   "outputs": [],
   "source": [
    "def compute_in(X):\n",
    "    Y = np.zeros((1,X.shape[1]))\n",
    "    for i in range(X.shape[1]):\n",
    "        Y[0,i] = 2*X[0,i]-(X[1,i]+X[2,i])\n",
    "        #Y[0,i] = (2*X[0,i])+(X[1,i]-X[2,i]-X[3,i])\n",
    "        #Y[0,i] = (4*X[0,i])-(-1*X[1,i]-X[2,i]-X[3,i])\n",
    "    return Y\n",
    "\n",
    "dataset = np.array(np.zeros(shape = (10000,5)))\n",
    "filename = 'test_(4x1)-(-1x2-x3-x4).txt'\n",
    "\n",
    "\n",
    "\n",
    "for i in range(10000):\n",
    "    X = np.random.randn(4,1)\n",
    "    Y = compute_in(X).T\n",
    "    dataset[i,0:-1] = X.T\n",
    "    dataset[i,-1] = Y[0,0]\n",
    "    \n",
    "np.savetxt(filename, dataset, delimiter=\",\")\n",
    "    "
   ]
  },
  {
   "cell_type": "code",
   "execution_count": null,
   "metadata": {},
   "outputs": [],
   "source": []
  }
 ],
 "metadata": {
  "kernelspec": {
   "display_name": "Python 3",
   "language": "python",
   "name": "python3"
  },
  "language_info": {
   "codemirror_mode": {
    "name": "ipython",
    "version": 3
   },
   "file_extension": ".py",
   "mimetype": "text/x-python",
   "name": "python",
   "nbconvert_exporter": "python",
   "pygments_lexer": "ipython3",
   "version": "3.8.3"
  }
 },
 "nbformat": 4,
 "nbformat_minor": 4
}
